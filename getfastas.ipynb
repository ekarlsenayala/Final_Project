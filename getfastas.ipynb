{
 "cells": [
  {
   "cell_type": "code",
   "execution_count": 1,
   "metadata": {},
   "outputs": [
    {
     "name": "stdin",
     "output_type": "stream",
     "text": [
      "Enter organism name tuber\n",
      "Enter maximum number of results  20\n"
     ]
    },
    {
     "name": "stdout",
     "output_type": "stream",
     "text": [
      "['1843798390', '1843798389', '1837918107', '1837918106', '1837893017', '1837893016', '1634554516', '1634551058', '1634551057', '1634551056', '1835707986', '1835707985', '1835707984', '1835707983', '1835707982', '1835707981', '1835707980', '1786710977', '1786710975', '1786520428']\n"
     ]
    }
   ],
   "source": [
    "from Bio import Entrez, SeqIO\n",
    "Entrez.email = 'curiousgeorge@ufl.edu'\n",
    "\n",
    "#prompt user for organism and number of results desired\n",
    "query= input('Enter organism name')\n",
    "usermax=input('Enter maximum number of results ')\n",
    "\n",
    "#send query to Entrez nucleotide database\n",
    "handle = Entrez.esearch(db='nucleotide', term = query, field='organism', retmax=usermax)\n",
    "record = Entrez.read(handle)\n",
    "handle.close()\n",
    "\n",
    "#get the 'IDList' field from the results\n",
    "ids=(record[\"IdList\"])\n",
    "print(ids) #optional\n",
    "\n",
    "#function to get sequences from the genbank IDs returned from the search and write to 'query_fastas.txt'\n",
    "def get_sequences():\n",
    "    open('query_fastas.txt','w')\n",
    "    for seq_id in ids:\n",
    "        handle = Entrez.efetch(db=\"nucleotide\", id=seq_id, rettype=\"fasta\", retmode=\"text\",retmax=1)\n",
    "        local_file=open('query_fastas.txt','a')  \n",
    "        local_file.write(handle.read())\n",
    "get_sequences()\n",
    "handle.close()"
   ]
  },
  {
   "cell_type": "code",
   "execution_count": null,
   "metadata": {},
   "outputs": [],
   "source": []
  }
 ],
 "metadata": {
  "kernelspec": {
   "display_name": "Python 3.8 (full)",
   "language": "python",
   "name": "python3-3.8-ufrc"
  },
  "language_info": {
   "codemirror_mode": {
    "name": "ipython",
    "version": 3
   },
   "file_extension": ".py",
   "mimetype": "text/x-python",
   "name": "python",
   "nbconvert_exporter": "python",
   "pygments_lexer": "ipython3",
   "version": "3.8.1"
  }
 },
 "nbformat": 4,
 "nbformat_minor": 4
}
