{
 "cells": [
  {
   "cell_type": "code",
   "execution_count": 2,
   "metadata": {},
   "outputs": [
    {
     "name": "stdin",
     "output_type": "stream",
     "text": [
      "Enter organism name tuber\n",
      "Enter maximum number of results  50\n"
     ]
    },
    {
     "name": "stdout",
     "output_type": "stream",
     "text": [
      "['1843798390', '1843798389', '1837918107', '1837918106', '1837893017', '1837893016', '1634554516', '1634551058', '1634551057', '1634551056', '1835707986', '1835707985', '1835707984', '1835707983', '1835707982', '1835707981', '1835707980', '1786710977', '1786710975', '1786520428', '1786520427', '1834425744', '1834425743', '1834425742', '1834425741', '1834425740', '1834425739', '1834425738', '1834425737', '1834425736', '1834425735', '1834425734', '1834425733', '1834425732', '1834425731', '1834425730', '965871734', '1832308887', '1832308886', '1832308885', '1832308884', '1832308883', '1832308882', '1832308881', '1832308880', '1832308879', '1832308878', '1832308877', '1832308876', '1832307463']\n"
     ]
    }
   ],
   "source": [
    "from Bio import Entrez, SeqIO\n",
    "Entrez.email = 'curiousgeorge@ufl.edu'\n",
    "\n",
    "#prompt user for organism and number of results desired\n",
    "query= input('Enter organism name')\n",
    "usermax=input('Enter maximum number of results ')\n",
    "\n",
    "#send query to Entrez nucleotide database\n",
    "handle = Entrez.esearch(db='nucleotide', term = query, field='organism', retmax=usermax)\n",
    "record = Entrez.read(handle)\n",
    "handle.close()\n",
    "\n",
    "#get the 'IDList' field from the results\n",
    "ids=(record[\"IdList\"])\n",
    "print(ids) #optional\n",
    "\n",
    "#function to get sequences from the genbank IDs returned from the search and write to 'query_fastas.txt'\n",
    "def get_sequences():\n",
    "    open('query.fasta','w')\n",
    "    for seq_id in ids:\n",
    "        handle = Entrez.efetch(db=\"nucleotide\", id=seq_id, rettype=\"fasta\", retmode=\"text\",retmax=1)\n",
    "        local_file=open('query.fasta','a') #a = append mode\n",
    "        local_file.write(handle.read()) #add data to end of file\n",
    "get_sequences()\n",
    "handle.close()"
   ]
  },
  {
   "cell_type": "code",
   "execution_count": 6,
   "metadata": {},
   "outputs": [
    {
     "name": "stdout",
     "output_type": "stream",
     "text": [
      "MT495426.1\n",
      "MT495424.1\n",
      "MT431586.1\n",
      "MT431585.1\n",
      "MT428420.1\n",
      "MT428419.1\n",
      "MK894441.1\n",
      "MK894440.1\n",
      "MK894439.1\n",
      "MT406377.1\n",
      "MT406376.1\n",
      "MT406375.1\n",
      "MT406374.1\n",
      "MT406373.1\n",
      "MT406372.1\n",
      "MT406371.1\n",
      "MN854635.1\n",
      "MN854634.1\n",
      "MT374052.1\n",
      "MT374051.1\n",
      "MT374050.1\n",
      "MT374049.1\n",
      "MT374048.1\n",
      "MT374047.1\n",
      "MT374046.1\n",
      "MT374045.1\n",
      "MT374044.1\n",
      "MT374043.1\n",
      "MT374042.1\n",
      "MT374041.1\n",
      "MT374040.1\n",
      "MT374039.1\n",
      "MT374038.1\n",
      "KT220263.1\n",
      "MT351086.1\n",
      "MT351085.1\n",
      "MT351084.1\n",
      "MT351083.1\n",
      "MT351082.1\n",
      "MT351081.1\n",
      "MT351080.1\n",
      "MT351079.1\n",
      "MT351078.1\n",
      "MT351077.1\n",
      "MT351076.1\n",
      "MT351075.1\n"
     ]
    }
   ],
   "source": [
    "#PART 2 - parsing the metadata from the sequences returned from our search, printing matching records... \n",
    "my_seqlist = []\n",
    "for seq_record in SeqIO.parse(\"query.fasta\", \"fasta\"):\n",
    "    my_seqlist.append(seq_record)\n",
    "    my_seqlist[0]\n",
    "gene=\"internal transcribed spacer\"\n",
    "for seq_record in my_seqlist:\n",
    "    if gene in seq_record.description:\n",
    "        print(seq_record.id)\n",
    "        \n",
    "# you can use the fields seq_record.id, .description, .seq"
   ]
  },
  {
   "cell_type": "code",
   "execution_count": null,
   "metadata": {},
   "outputs": [],
   "source": []
  }
 ],
 "metadata": {
  "kernelspec": {
   "display_name": "Python 3.8 (full)",
   "language": "python",
   "name": "python3-3.8-ufrc"
  },
  "language_info": {
   "codemirror_mode": {
    "name": "ipython",
    "version": 3
   },
   "file_extension": ".py",
   "mimetype": "text/x-python",
   "name": "python",
   "nbconvert_exporter": "python",
   "pygments_lexer": "ipython3",
   "version": "3.8.1"
  }
 },
 "nbformat": 4,
 "nbformat_minor": 4
}
