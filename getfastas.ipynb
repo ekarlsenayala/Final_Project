{
 "cells": [
  {
   "cell_type": "code",
   "execution_count": 5,
   "metadata": {},
   "outputs": [
    {
     "name": "stdin",
     "output_type": "stream",
     "text": [
      "Enter organism name inocybe\n",
      "Enter maximum number of results  60\n"
     ]
    }
   ],
   "source": [
    "#PYTHON NOTEBOOK SCRIPT TO GET GENBANK SEQUENCES OF INTEREST AND WRITE FASTA FILE\n",
    "\n",
    "from Bio import Entrez, SeqIO\n",
    "Entrez.email = 'curiousgeorge@ufl.edu'\n",
    "\n",
    "#prompt user for organism and number of results desired\n",
    "query= input('Enter organism name')\n",
    "usermax=input('Enter maximum number of results ')\n",
    "\n",
    "#send query to Entrez nucleotide database\n",
    "handle = Entrez.esearch(db='nucleotide', term = query, field='organism', retmax=usermax)\n",
    "record = Entrez.read(handle)\n",
    "handle.close()\n",
    "\n",
    "#get the 'IDList' field from the results\n",
    "ids=(record[\"IdList\"])\n",
    "\n",
    "#function to get sequences from the genbank IDs returned from the search and write to 'query.fasta'\n",
    "def get_sequences():\n",
    "    open('query.fasta','w')\n",
    "    for seq_id in ids:\n",
    "        handle = Entrez.efetch(db=\"nucleotide\", id=seq_id, rettype=\"fasta\", retmode=\"text\",retmax=1)\n",
    "        f=open('query.fasta','a') #a = append mode\n",
    "        f.write(handle.read()) #add data to end of file\n",
    "get_sequences()\n",
    "handle.close()"
   ]
  },
  {
   "cell_type": "code",
   "execution_count": 3,
   "metadata": {},
   "outputs": [
    {
     "name": "stdin",
     "output_type": "stream",
     "text": [
      "Enter Gene of Interest:  ITS\n"
     ]
    }
   ],
   "source": [
    "#PART 2 - getting only sequences for a gene of interest... \n",
    "\n",
    "#make empty list to stash the search results in (to eventually search through with 'if' statment)\n",
    "my_seqlist = []\n",
    "for seq_record in SeqIO.parse(\"query.fasta\", \"fasta\"):\n",
    "    my_seqlist.append(seq_record)\n",
    "    my_seqlist[0]\n",
    "\n",
    "#prompt user for second query (gene or metadata)\n",
    "gene=input(\"Specify gene (or other metadata) of interest: \")\n",
    "\n",
    "#search through my_seqlist for 'gene', and append those records to a new file called 'second.fasta'\n",
    "with open(\"second.fasta\", \"w\") as handle: #first open an empty, writable file\n",
    "    for seq_record in my_seqlist:\n",
    "        if gene in seq_record.description: #every time 'gene' is encountered in the 'description' attribute of the record\n",
    "            SeqIO.write(seq_record, handle, \"fasta\") #write that to the file"
   ]
  },
  {
   "cell_type": "code",
   "execution_count": 4,
   "metadata": {},
   "outputs": [
    {
     "name": "stdout",
     "output_type": "stream",
     "text": [
      "Number of remaining sequence 2\n",
      "Unique designations are: \n",
      "NR_168766.1\n",
      "NR_168765.1\n"
     ]
    }
   ],
   "source": [
    "#Code adapted from Biopython help forums and adapted from work in the Biopython Cookbook Change et al 2020\n",
    "\n",
    "from Bio import SeqIO\n",
    "from Bio.SeqUtils.CheckSum import seguid\n",
    "\n",
    "#function to check for and remove duplicate records\n",
    "def remove_duplicates(records):\n",
    "    check_sequences = set()\n",
    "    for record in records:\n",
    "        checksum = seguid(record.seq)\n",
    "        if checksum in check_sequences:\n",
    "            print(\"Removing duplicates %s into outfile\" % record.id ) \n",
    "            continue\n",
    "        check_sequences.add(checksum)\n",
    "        yield record\n",
    "        if record.id == record.seq:\n",
    "            print(\"No duplicates!\")\n",
    "\n",
    "saved_sequences = remove_duplicates(SeqIO.parse(\"second.fasta\", \"fasta\")) #run remove duplicates on second.fasta\n",
    "count = SeqIO.write(saved_sequences, \"final.fasta\", \"fasta\")\n",
    "print (\"Final number of sequences %s\" %count)\n",
    "\n",
    "#read the new file and display the gene ids\n",
    "\n",
    "print(\"Unique designations are: \")\n",
    "for seq_record in SeqIO.parse(\"final.fasta\", \"fasta\"):\n",
    "    print(seq_record.id) #print only the id field "
   ]
  },
  {
   "cell_type": "code",
   "execution_count": null,
   "metadata": {},
   "outputs": [],
   "source": []
  },
  {
   "cell_type": "code",
   "execution_count": null,
   "metadata": {},
   "outputs": [],
   "source": []
  }
 ],
 "metadata": {
  "kernelspec": {
   "display_name": "Python 3.8 (full)",
   "language": "python",
   "name": "python3-3.8-ufrc"
  },
  "language_info": {
   "codemirror_mode": {
    "name": "ipython",
    "version": 3
   },
   "file_extension": ".py",
   "mimetype": "text/x-python",
   "name": "python",
   "nbconvert_exporter": "python",
   "pygments_lexer": "ipython3",
   "version": "3.8.1"
  }
 },
 "nbformat": 4,
 "nbformat_minor": 4
}
