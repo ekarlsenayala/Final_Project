{
 "cells": [
  {
   "cell_type": "code",
   "execution_count": 8,
   "metadata": {},
   "outputs": [
    {
     "name": "stdin",
     "output_type": "stream",
     "text": [
      "Enter organism name tuber\n",
      "Enter maximum number of results  10\n"
     ]
    }
   ],
   "source": [
    "from Bio import Entrez, SeqIO\n",
    "Entrez.email = 'curiousgeorge@ufl.edu'\n",
    "\n",
    "#prompt user for organism and number of results desired\n",
    "query= input('Enter organism name')\n",
    "usermax=input('Enter maximum number of results ')\n",
    "\n",
    "#send query to Entrez nucleotide database\n",
    "handle = Entrez.esearch(db='nucleotide', term = query, field='organism', retmax=usermax)\n",
    "record = Entrez.read(handle)\n",
    "handle.close()\n",
    "\n",
    "#get the 'IDList' field from the results\n",
    "ids=(record[\"IdList\"])\n",
    "\n",
    "#function to get sequences from the genbank IDs returned from the search and write to 'query_fastas.txt'\n",
    "def get_sequences():\n",
    "    open('query.fasta','w')\n",
    "    for seq_id in ids:\n",
    "        handle = Entrez.efetch(db=\"nucleotide\", id=seq_id, rettype=\"fasta\", retmode=\"text\",retmax=1)\n",
    "        local_file=open('query.fasta','a') #a = append mode\n",
    "        local_file.write(handle.read()) #add data to end of file\n",
    "get_sequences()\n",
    "handle.close()"
   ]
  },
  {
   "cell_type": "code",
   "execution_count": 10,
   "metadata": {},
   "outputs": [
    {
     "name": "stdin",
     "output_type": "stream",
     "text": [
      "Enter Gene of Interest:  internal\n"
     ]
    },
    {
     "ename": "ValueError",
     "evalue": "I/O operation on closed file",
     "output_type": "error",
     "traceback": [
      "\u001b[0;31m---------------------------------------------------------------------------\u001b[0m",
      "\u001b[0;31mValueError\u001b[0m                                Traceback (most recent call last)",
      "\u001b[0;32m<ipython-input-10-b643b9e4a461>\u001b[0m in \u001b[0;36m<module>\u001b[0;34m\u001b[0m\n\u001b[1;32m     10\u001b[0m \u001b[0;32mfor\u001b[0m \u001b[0mseq_record\u001b[0m \u001b[0;32min\u001b[0m \u001b[0mmy_seqlist\u001b[0m\u001b[0;34m:\u001b[0m\u001b[0;34m\u001b[0m\u001b[0;34m\u001b[0m\u001b[0m\n\u001b[1;32m     11\u001b[0m     \u001b[0;32mif\u001b[0m \u001b[0mgene\u001b[0m \u001b[0;32min\u001b[0m \u001b[0mseq_record\u001b[0m\u001b[0;34m.\u001b[0m\u001b[0mdescription\u001b[0m\u001b[0;34m:\u001b[0m\u001b[0;34m\u001b[0m\u001b[0;34m\u001b[0m\u001b[0m\n\u001b[0;32m---> 12\u001b[0;31m         \u001b[0mprint\u001b[0m \u001b[0;34m(\u001b[0m\u001b[0;34m'>'\u001b[0m \u001b[0;34m+\u001b[0m\u001b[0mstr\u001b[0m\u001b[0;34m(\u001b[0m\u001b[0mseq_record\u001b[0m\u001b[0;34m.\u001b[0m\u001b[0mid\u001b[0m\u001b[0;34m)\u001b[0m\u001b[0;34m)\u001b[0m\u001b[0;34m\u001b[0m\u001b[0;34m\u001b[0m\u001b[0m\n\u001b[0m\u001b[1;32m     13\u001b[0m         \u001b[0mprint\u001b[0m\u001b[0;34m(\u001b[0m\u001b[0mseq_record\u001b[0m\u001b[0;34m.\u001b[0m\u001b[0mseq\u001b[0m\u001b[0;34m)\u001b[0m\u001b[0;34m\u001b[0m\u001b[0;34m\u001b[0m\u001b[0m\n\u001b[1;32m     14\u001b[0m         \u001b[0;31m#sys.stdout = open(\"second.fasta\", \"a\")\u001b[0m\u001b[0;34m\u001b[0m\u001b[0;34m\u001b[0m\u001b[0;34m\u001b[0m\u001b[0m\n",
      "\u001b[0;32m/apps/python/3.8/lib/python3.8/site-packages/ipykernel/iostream.py\u001b[0m in \u001b[0;36mwrite\u001b[0;34m(self, string)\u001b[0m\n\u001b[1;32m    392\u001b[0m \u001b[0;34m\u001b[0m\u001b[0m\n\u001b[1;32m    393\u001b[0m         \u001b[0;32mif\u001b[0m \u001b[0mself\u001b[0m\u001b[0;34m.\u001b[0m\u001b[0mpub_thread\u001b[0m \u001b[0;32mis\u001b[0m \u001b[0;32mNone\u001b[0m\u001b[0;34m:\u001b[0m\u001b[0;34m\u001b[0m\u001b[0;34m\u001b[0m\u001b[0m\n\u001b[0;32m--> 394\u001b[0;31m             \u001b[0;32mraise\u001b[0m \u001b[0mValueError\u001b[0m\u001b[0;34m(\u001b[0m\u001b[0;34m'I/O operation on closed file'\u001b[0m\u001b[0;34m)\u001b[0m\u001b[0;34m\u001b[0m\u001b[0;34m\u001b[0m\u001b[0m\n\u001b[0m\u001b[1;32m    395\u001b[0m         \u001b[0;32melse\u001b[0m\u001b[0;34m:\u001b[0m\u001b[0;34m\u001b[0m\u001b[0;34m\u001b[0m\u001b[0m\n\u001b[1;32m    396\u001b[0m             \u001b[0;31m# Make sure that we're handling unicode\u001b[0m\u001b[0;34m\u001b[0m\u001b[0;34m\u001b[0m\u001b[0;34m\u001b[0m\u001b[0m\n",
      "\u001b[0;31mValueError\u001b[0m: I/O operation on closed file"
     ]
    }
   ],
   "source": [
    "from Bio import SeqIO\n",
    "import sys #needed to be able to write a new file from standard output\n",
    "#PART 2 - parsing the metadata from the sequences returned from our search, printing matching records... \n",
    "my_seqlist = []\n",
    "for seq_record in SeqIO.parse(\"query.fasta\", \"fasta\"):\n",
    "    my_seqlist.append(seq_record)\n",
    "    my_seqlist[0]\n",
    "gene=input(\"Enter Gene of Interest: \")\n",
    "#sys.stdout = open(\"second.fasta\", \"w\") #make new fasta file for seqs matching that gene\n",
    "for seq_record in my_seqlist:\n",
    "    if gene in seq_record.description:\n",
    "        print ('>' +str(seq_record.id))\n",
    "        print(seq_record.seq)\n",
    "        #sys.stdout = open(\"second.fasta\", \"a\")\n",
    "        #sys.stdout.close()\n",
    "#sys.stdout.close() "
   ]
  },
  {
   "cell_type": "code",
   "execution_count": null,
   "metadata": {},
   "outputs": [],
   "source": [
    "#Code adapted from Biopython help forums and adapted from work in the Biopython Cookbook Change et al 2020\n",
    "\n",
    "from Bio import SeqIO\n",
    "from Bio.SeqUtils.CheckSum import seguid\n",
    "\n",
    "def remove_duplicates(records):\n",
    "    check_sequences = set()\n",
    "    for record in records:\n",
    "        checksum = seguid(record.seq)\n",
    "        if checksum in check_sequences:\n",
    "            print(\"Removing duplicates %s into outfile\" % record.id ) \n",
    "            continue\n",
    "        check_sequences.add(checksum)\n",
    "        yield record\n",
    "        if record.id == record.seq:\n",
    "            print(\"No duplicates!\")\n",
    "\n",
    "saved_sequences = remove_duplicates(SeqIO.parse(\"second.fasta\", \"fasta\"))\n",
    "count = SeqIO.write(saved_sequences, \"final.fasta\", \"fasta\")\n",
    "print (\"Number of remaining sequence %s\" %count)\n",
    "\n",
    "#read the new file and display the gene ids\n",
    "\n",
    "print(\"Unique designations are: \")\n",
    "\n",
    "for seq_record in SeqIO.parse(\"final.fasta\", \"fasta\"):\n",
    "    print(seq_record.id)"
   ]
  },
  {
   "cell_type": "code",
   "execution_count": null,
   "metadata": {},
   "outputs": [],
   "source": []
  },
  {
   "cell_type": "code",
   "execution_count": null,
   "metadata": {},
   "outputs": [],
   "source": []
  }
 ],
 "metadata": {
  "kernelspec": {
   "display_name": "Python 3.8 (full)",
   "language": "python",
   "name": "python3-3.8-ufrc"
  },
  "language_info": {
   "codemirror_mode": {
    "name": "ipython",
    "version": 3
   },
   "file_extension": ".py",
   "mimetype": "text/x-python",
   "name": "python",
   "nbconvert_exporter": "python",
   "pygments_lexer": "ipython3",
   "version": "3.8.1"
  }
 },
 "nbformat": 4,
 "nbformat_minor": 4
}
